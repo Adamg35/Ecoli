{
 "cells": [
  {
   "cell_type": "code",
   "execution_count": 4,
   "id": "24425515-558a-4da5-adff-34504e8a4fac",
   "metadata": {},
   "outputs": [],
   "source": [
    "import re\n"
   ]
  },
  {
   "cell_type": "markdown",
   "id": "468b0124-fdc1-452a-b7d6-59ebd11cbfb7",
   "metadata": {},
   "source": [
    "Zadanie 1."
   ]
  },
  {
   "cell_type": "code",
   "execution_count": 7,
   "id": "52ffb7fe-0914-4710-b7a2-c45ade616c3f",
   "metadata": {},
   "outputs": [
    {
     "name": "stdout",
     "output_type": "stream",
     "text": [
      "['GAATA', 'GGCTA', 'GGCTA', 'GTATA', 'GTCTA', 'GCGTA', 'GTATA', 'GCGTA']\n"
     ]
    }
   ],
   "source": [
    "s = \"ATGCGCGCGGCGGATCGAATAGGCTAGCTAGGCTATATGCGCTATATGCGCCGTATAGGAGTCTAGCGTATATGCGATTCGATTCGTATAGCGTAGCTCTGAGACTCTGAGAGC\"\n",
    "t = re.findall('G[^X]{2}TA', s)\n",
    "print (t)"
   ]
  },
  {
   "cell_type": "code",
   "execution_count": 11,
   "id": "89984573-fa4b-4029-9263-c95083eaca22",
   "metadata": {},
   "outputs": [],
   "source": [
    "f = open(\"C:/Users/adamg/AppData/Roaming/Microsoft/Windows/Start Menu/Programs/Miniconda3 (64-bit)\\ec.fasta\", \"r\") #pobieram genom E. coli\n",
    "g = f.read()\n",
    "f.close()"
   ]
  },
  {
   "cell_type": "code",
   "execution_count": 12,
   "id": "1e006abf-c972-4c92-bf55-d20901f42a2d",
   "metadata": {},
   "outputs": [],
   "source": [
    "g = g.replace('\\n', '') #kasuje \\n (znaki końca linii)"
   ]
  },
  {
   "cell_type": "code",
   "execution_count": 14,
   "id": "cb7539c1-979b-4b80-a2e1-31800b667a1b",
   "metadata": {},
   "outputs": [
    {
     "name": "stdout",
     "output_type": "stream",
     "text": [
      "4527247\n"
     ]
    }
   ],
   "source": [
    "N = len(g)\n",
    "print(N)"
   ]
  },
  {
   "cell_type": "code",
   "execution_count": 2,
   "id": "22eea3ab-6a32-4da0-8083-93a3a3453b73",
   "metadata": {},
   "outputs": [
    {
     "name": "stdout",
     "output_type": "stream",
     "text": [
      "['AAA', 'AAT', 'AAG', 'AAC', 'ATA', 'ATT', 'ATG', 'ATC', 'AGA', 'AGT', 'AGG', 'AGC', 'ACA', 'ACT', 'ACG', 'ACC', 'TAA', 'TAT', 'TAG', 'TAC', 'TTA', 'TTT', 'TTG', 'TTC', 'TGA', 'TGT', 'TGG', 'TGC', 'TCA', 'TCT', 'TCG', 'TCC', 'GAA', 'GAT', 'GAG', 'GAC', 'GTA', 'GTT', 'GTG', 'GTC', 'GGA', 'GGT', 'GGG', 'GGC', 'GCA', 'GCT', 'GCG', 'GCC', 'CAA', 'CAT', 'CAG', 'CAC', 'CTA', 'CTT', 'CTG', 'CTC', 'CGA', 'CGT', 'CGG', 'CGC', 'CCA', 'CCT', 'CCG', 'CCC']\n"
     ]
    }
   ],
   "source": [
    "#tworzę liste trinukleotydow\n",
    "\n",
    "nukleotydy = [\"A\",\"T\",\"G\",\"C\"]\n",
    "trin=[]\n",
    "for n in nukleotydy:\n",
    "    for m in nukleotydy:\n",
    "        for l in nukleotydy:\n",
    "            trin.append(n+m+l)\n",
    "\n",
    "print(trin)"
   ]
  },
  {
   "cell_type": "code",
   "execution_count": 52,
   "id": "6bafca72-f1e0-446b-b718-6c94977bd599",
   "metadata": {},
   "outputs": [
    {
     "ename": "KeyboardInterrupt",
     "evalue": "",
     "output_type": "error",
     "traceback": [
      "\u001b[1;31m---------------------------------------------------------------------------\u001b[0m",
      "\u001b[1;31mKeyboardInterrupt\u001b[0m                         Traceback (most recent call last)",
      "Cell \u001b[1;32mIn[52], line 1\u001b[0m\n\u001b[1;32m----> 1\u001b[0m Z \u001b[38;5;241m=\u001b[39m \u001b[43m[\u001b[49m\u001b[38;5;28;43mlen\u001b[39;49m\u001b[43m(\u001b[49m\u001b[43mre\u001b[49m\u001b[38;5;241;43m.\u001b[39;49m\u001b[43mfindall\u001b[49m\u001b[43m(\u001b[49m\u001b[38;5;124;43m'\u001b[39;49m\u001b[38;5;124;43m(?=\u001b[39;49m\u001b[38;5;124;43m'\u001b[39;49m\u001b[38;5;241;43m+\u001b[39;49m\u001b[38;5;124;43m'\u001b[39;49m\u001b[38;5;124;43m)\u001b[39;49m\u001b[38;5;124;43m'\u001b[39;49m\u001b[43m,\u001b[49m\u001b[43m \u001b[49m\u001b[43mg\u001b[49m\u001b[43m)\u001b[49m\u001b[43m)\u001b[49m\u001b[38;5;241;43m/\u001b[39;49m\u001b[43m(\u001b[49m\u001b[43mN\u001b[49m\u001b[38;5;241;43m-\u001b[39;49m\u001b[38;5;241;43m2\u001b[39;49m\u001b[43m)\u001b[49m\u001b[43m \u001b[49m\u001b[38;5;28;43;01mfor\u001b[39;49;00m\u001b[43m \u001b[49m\u001b[43mx\u001b[49m\u001b[43m \u001b[49m\u001b[38;5;129;43;01min\u001b[39;49;00m\u001b[43m \u001b[49m\u001b[43mtrin\u001b[49m\u001b[43m]\u001b[49m \u001b[38;5;66;03m#częstosci występowania trinukleotydow\u001b[39;00m\n\u001b[0;32m      3\u001b[0m \u001b[38;5;28mprint\u001b[39m(Z)\n",
      "Cell \u001b[1;32mIn[52], line 1\u001b[0m, in \u001b[0;36m<listcomp>\u001b[1;34m(.0)\u001b[0m\n\u001b[1;32m----> 1\u001b[0m Z \u001b[38;5;241m=\u001b[39m [\u001b[38;5;28mlen\u001b[39m(re\u001b[38;5;241m.\u001b[39mfindall(\u001b[38;5;124m'\u001b[39m\u001b[38;5;124m(?=\u001b[39m\u001b[38;5;124m'\u001b[39m\u001b[38;5;241m+\u001b[39m\u001b[38;5;124m'\u001b[39m\u001b[38;5;124m)\u001b[39m\u001b[38;5;124m'\u001b[39m, g))\u001b[38;5;241m/\u001b[39m(N\u001b[38;5;241m-\u001b[39m\u001b[38;5;241m2\u001b[39m) \u001b[38;5;28;01mfor\u001b[39;00m x \u001b[38;5;129;01min\u001b[39;00m trin] \u001b[38;5;66;03m#częstosci występowania trinukleotydow\u001b[39;00m\n\u001b[0;32m      3\u001b[0m \u001b[38;5;28mprint\u001b[39m(Z)\n",
      "\u001b[1;31mKeyboardInterrupt\u001b[0m: "
     ]
    }
   ],
   "source": [
    "Z = [len(re.findall('(?='+x+')', g))/(N-2) for x in trin] #częstosci występowania trinukleotydow\n",
    "\n",
    "print(Z)"
   ]
  },
  {
   "cell_type": "code",
   "execution_count": null,
   "id": "4d9d6534-2c9a-4c00-beb4-a15c95412f25",
   "metadata": {},
   "outputs": [],
   "source": [
    "sum(Z)\n"
   ]
  },
  {
   "cell_type": "code",
   "execution_count": null,
   "id": "3c867b2c-20be-4922-891a-c035419018d9",
   "metadata": {},
   "outputs": [],
   "source": []
  },
  {
   "cell_type": "code",
   "execution_count": null,
   "id": "52f04c98-8943-4cee-b5f6-a03ff0f41cdc",
   "metadata": {},
   "outputs": [],
   "source": []
  }
 ],
 "metadata": {
  "kernelspec": {
   "display_name": "Python 3 (ipykernel)",
   "language": "python",
   "name": "python3"
  },
  "language_info": {
   "codemirror_mode": {
    "name": "ipython",
    "version": 3
   },
   "file_extension": ".py",
   "mimetype": "text/x-python",
   "name": "python",
   "nbconvert_exporter": "python",
   "pygments_lexer": "ipython3",
   "version": "3.11.4"
  }
 },
 "nbformat": 4,
 "nbformat_minor": 5
}
